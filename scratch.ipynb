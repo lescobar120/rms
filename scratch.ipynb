{
 "cells": [
  {
   "cell_type": "code",
   "execution_count": 1,
   "metadata": {},
   "outputs": [],
   "source": [
    "%load_ext autoreload\n",
    "%autoreload 2"
   ]
  },
  {
   "cell_type": "code",
   "execution_count": 2,
   "metadata": {},
   "outputs": [],
   "source": [
    "import company_model_generator"
   ]
  },
  {
   "cell_type": "code",
   "execution_count": 3,
   "metadata": {},
   "outputs": [
    {
     "name": "stdout",
     "output_type": "stream",
     "text": [
      "Generating Company Model Excel Template...\n",
      "Company model generated: salesforce_company_model.xlsx\n",
      "Company model saved to: salesforce_company_model.xlsx\n",
      "Test complete!\n"
     ]
    }
   ],
   "source": [
    "print(\"Generating Company Model Excel Template...\")\n",
    "\n",
    "# Create sample data\n",
    "model_data = company_model_generator.create_sample_company_model_data()\n",
    "\n",
    "# Generate Excel file\n",
    "generator = company_model_generator.CompanyModelExcelGenerator()\n",
    "output_path = \"salesforce_company_model.xlsx\"\n",
    "generator.generate_model(model_data, output_path)\n",
    "\n",
    "print(f\"Company model saved to: {output_path}\")\n",
    "print(\"Test complete!\")"
   ]
  },
  {
   "cell_type": "code",
   "execution_count": null,
   "metadata": {},
   "outputs": [],
   "source": []
  },
  {
   "cell_type": "code",
   "execution_count": null,
   "metadata": {},
   "outputs": [],
   "source": []
  },
  {
   "cell_type": "code",
   "execution_count": null,
   "metadata": {},
   "outputs": [],
   "source": []
  }
 ],
 "metadata": {
  "kernelspec": {
   "display_name": "bloomberg_apis_env",
   "language": "python",
   "name": "python3"
  },
  "language_info": {
   "codemirror_mode": {
    "name": "ipython",
    "version": 3
   },
   "file_extension": ".py",
   "mimetype": "text/x-python",
   "name": "python",
   "nbconvert_exporter": "python",
   "pygments_lexer": "ipython3",
   "version": "3.8.2"
  }
 },
 "nbformat": 4,
 "nbformat_minor": 2
}
