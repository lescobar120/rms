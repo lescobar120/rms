{
 "cells": [
  {
   "cell_type": "code",
   "execution_count": 1,
   "metadata": {},
   "outputs": [],
   "source": [
    "%load_ext autoreload\n",
    "%autoreload 2"
   ]
  },
  {
   "cell_type": "code",
   "execution_count": null,
   "metadata": {},
   "outputs": [],
   "source": [
    "from jinja2 import Template\n",
    "from html2docx import html2docx\n",
    "\n",
    "import ipywidgets as ipw\n",
    "import datetime\n",
    "import pandas as pd\n",
    "import numpy as np"
   ]
  },
  {
   "cell_type": "code",
   "execution_count": null,
   "metadata": {},
   "outputs": [],
   "source": [
    "from typing import List, Dict, Any, Optional, Tuple, Union\n",
    "from dataclasses import dataclass, field\n",
    "from enum import Enum\n",
    "import datetime\n",
    "from pathlib import Path\n",
    "\n",
    "from docx import Document\n",
    "from docx.shared import Pt, Inches\n",
    "from docx.enum.text import WD_ALIGN_PARAGRAPH\n",
    "from docx.enum.table import WD_ROW_HEIGHT_RULE\n",
    "from docx.oxml.ns import qn\n",
    "from docx.oxml import OxmlElement\n",
    "from docx.table import Table, _Cell\n",
    "from docx.text.paragraph import Paragraph\n",
    "\n",
    "import docx2pdf\n",
    "import win32com.client\n",
    "import os"
   ]
  },
  {
   "cell_type": "code",
   "execution_count": null,
   "metadata": {},
   "outputs": [],
   "source": [
    "import research_generator"
   ]
  },
  {
   "cell_type": "markdown",
   "metadata": {},
   "source": [
    "### Create Thesis Doc"
   ]
  },
  {
   "cell_type": "code",
   "execution_count": null,
   "metadata": {},
   "outputs": [],
   "source": [
    "research_generator.create_thesis_doc()"
   ]
  },
  {
   "cell_type": "markdown",
   "metadata": {},
   "source": [
    "### Create Linked NOTE Object"
   ]
  },
  {
   "cell_type": "code",
   "execution_count": null,
   "metadata": {},
   "outputs": [],
   "source": [
    "from bloomberg_apis.rms_api import (\n",
    "    initialize_notepublisher_client, CMTY, \n",
    "    initialize_rmsbql_client, \n",
    "    initialize_cdeuploader_client\n",
    "    )\n",
    "# from NotePublisher import NotePublisher"
   ]
  },
  {
   "cell_type": "code",
   "execution_count": null,
   "metadata": {},
   "outputs": [],
   "source": [
    "# note_pub = NotePublisher(config_dir='config', environment='bbg')\n",
    "note_pub = initialize_notepublisher_client()"
   ]
  },
  {
   "cell_type": "code",
   "execution_count": null,
   "metadata": {},
   "outputs": [],
   "source": [
    "_tag_primary_ticker = note_pub.find_security('AAPL US Equity')\n",
    "_tag_author = note_pub.find_user('Lucas Escobar', UserType.AUTHORS)\n",
    "_tag_note_type = note_pub.find_taglist('BUYSIDE EQ: Note type', 'Meeting Note')\n",
    "\n",
    "_cmty = note_pub.find_community('Lucas Test CMTY')"
   ]
  },
  {
   "cell_type": "code",
   "execution_count": null,
   "metadata": {},
   "outputs": [],
   "source": [
    "note_pub.create_note(\n",
    "    title='TEST',\n",
    "    body='',\n",
    "    as_of_date=int(datetime.datetime.strptime('2025-06-16', '%Y-%m-%d').timestamp() * 1000),\n",
    "    tags = [_tag_primary_ticker, _tag_author, _tag_note_type],\n",
    "    share_with = [_cmty],\n",
    "    attachments= ['thesis.docx','thesis.pdf']\n",
    ")"
   ]
  },
  {
   "cell_type": "markdown",
   "metadata": {},
   "source": [
    "### Publish Assocatiated CDE Data"
   ]
  },
  {
   "cell_type": "code",
   "execution_count": null,
   "metadata": {},
   "outputs": [],
   "source": [
    "uploader = initialize_cdeuploader_client()"
   ]
  },
  {
   "cell_type": "code",
   "execution_count": null,
   "metadata": {},
   "outputs": [],
   "source": [
    "upload_frame = pd.DataFrame(columns=['parsekey','value','date','field'])\n",
    "upload_frame"
   ]
  },
  {
   "cell_type": "code",
   "execution_count": null,
   "metadata": {},
   "outputs": [],
   "source": [
    "req= {\n",
    "    'parsekey' : 'SWIGGY IN Equity', \n",
    "    'field' : 'U1R2I', # UD_BQL_NAME_TEST\n",
    "    'value' : 'Test_Value',\n",
    "    'date' : '20250324'\n",
    "}\n",
    "upload_frame = pd.concat([upload_frame,pd.DataFrame([req])])\n",
    "upload_frame"
   ]
  },
  {
   "cell_type": "code",
   "execution_count": null,
   "metadata": {},
   "outputs": [],
   "source": [
    "# results = uploader.batch_upload_cde(\n",
    "#     upload_frame,\n",
    "#     max_workers=25,\n",
    "#     batch_size=75,\n",
    "#     batch_delay=1.0\n",
    "# )"
   ]
  },
  {
   "cell_type": "code",
   "execution_count": null,
   "metadata": {},
   "outputs": [],
   "source": []
  },
  {
   "cell_type": "code",
   "execution_count": null,
   "metadata": {},
   "outputs": [],
   "source": []
  },
  {
   "cell_type": "markdown",
   "metadata": {},
   "source": [
    "### Content Creation Imports"
   ]
  },
  {
   "cell_type": "code",
   "execution_count": null,
   "metadata": {},
   "outputs": [],
   "source": [
    "from research_creation_system.orchestrator import ResearchContentOrchestrator\n",
    "from research_creation_system.templates.thesis_template import (\n",
    "    ThesisTemplate, \n",
    "    ThesisTemplateData,\n",
    "    ThesisPublishingConfig,\n",
    "    ThesisCDEMappingConfig\n",
    ")\n",
    "from research_creation_system.templates.light_update_template import (\n",
    "    LightUpdateTemplate,\n",
    "    LightUpdateTemplateData, \n",
    "    LightUpdatePublishingConfig,\n",
    "    LightUpdateCDEMappingConfig\n",
    ")\n",
    "from research_creation_system.templates.company_model_template import (\n",
    "    CompanyModelTemplate,\n",
    "    CompanyModelTemplateData, \n",
    "    CompanyModelPublishingConfig,\n",
    "    CompanyModelCDEMappingConfig\n",
    ")\n",
    "from research_creation_system.document_generation.excel_styling import ExcelStyleConfig\n",
    "from research_creation_system.base.template_base import TaglistMapping\n",
    "from research_creation_system.data_models import CompanyInfo, InvestmentRecommendation\n",
    "from research_creation_system.utils import create_sample_thesis_data, create_sample_light_update_data, create_sample_company_model_template_data"
   ]
  },
  {
   "cell_type": "code",
   "execution_count": null,
   "metadata": {},
   "outputs": [],
   "source": [
    "print(\"Testing Research Content System...\")\n",
    "\n",
    "# Initialize orchestrator\n",
    "orchestrator = ResearchContentOrchestrator()"
   ]
  },
  {
   "cell_type": "markdown",
   "metadata": {},
   "source": [
    "#### Thesis Template Sample"
   ]
  },
  {
   "cell_type": "code",
   "execution_count": null,
   "metadata": {},
   "outputs": [],
   "source": [
    "print(\"Testing Thesis Template...\")\n",
    "thesis_data = create_sample_thesis_data()\n",
    "thesis_config = ThesisPublishingConfig(\n",
    "    community_name=\"Lucas Test CMTY\",\n",
    "    analyst_name=\"Lucas Escobar\",\n",
    "    taglists=[\n",
    "        TaglistMapping(\"BUYSIDE EQ: Note type\", \"Meeting Note\"),\n",
    "        TaglistMapping(\"BUYSIDE EQ: Investment Theme\", \"Tech Trifecta\")\n",
    "    ]\n",
    ")\n",
    "thesis_cde_config = ThesisCDEMappingConfig()\n",
    "\n",
    "try:\n",
    "    thesis_results = orchestrator.publish_research(\n",
    "        template_type=ThesisTemplate,\n",
    "        ticker=\"AAPL US Equity\",\n",
    "        data=thesis_data,\n",
    "        publishing_config=thesis_config,\n",
    "        cde_config=thesis_cde_config,\n",
    "        upload_cde=False\n",
    "    )\n",
    "    print(\"Thesis template executed successfully!\")\n",
    "except Exception as e:\n",
    "    print(f\"Thesis template failed: {e}\")"
   ]
  },
  {
   "cell_type": "markdown",
   "metadata": {},
   "source": [
    "#### Light Update Sample"
   ]
  },
  {
   "cell_type": "code",
   "execution_count": null,
   "metadata": {},
   "outputs": [],
   "source": [
    "print(\"Testing Light Update Template...\")\n",
    "light_data = create_sample_light_update_data()\n",
    "light_config = LightUpdatePublishingConfig(\n",
    "    community_name=\"Lucas Test CMTY\", \n",
    "    analyst_name=\"Lucas Escobar\",\n",
    "    taglists=[\n",
    "        TaglistMapping(\"BUYSIDE EQ: Note type\", \"Meeting Note\")\n",
    "    ]\n",
    ")\n",
    "light_cde_config = LightUpdateCDEMappingConfig()\n",
    "\n",
    "try:\n",
    "    light_update_results = orchestrator.publish_research(\n",
    "        template_type=LightUpdateTemplate,\n",
    "        ticker=\"MSFT US Equity\",\n",
    "        data=light_data,\n",
    "        publishing_config=light_config,\n",
    "        cde_config=light_cde_config,\n",
    "        upload_cde=False\n",
    "    )\n",
    "    print(\"Light update template executed successfully!\")\n",
    "except Exception as e:\n",
    "    print(f\"Light update template failed: {e}\")\n",
    "\n",
    "print(\"\\nTesting complete!\")\n"
   ]
  },
  {
   "cell_type": "markdown",
   "metadata": {},
   "source": [
    "#### Company Model Sample"
   ]
  },
  {
   "cell_type": "code",
   "execution_count": null,
   "metadata": {},
   "outputs": [],
   "source": [
    "print(\"Testing Company Model Template...\")\n",
    "model_data = create_sample_company_model_template_data()\n",
    "model_config = CompanyModelPublishingConfig(\n",
    "    community_name=\"Lucas Test CMTY\",\n",
    "    analyst_name=\"Lucas Escobar\",\n",
    "    taglists=[\n",
    "        TaglistMapping(\"BUYSIDE EQ: Note type\", \"Company Model\"),\n",
    "        TaglistMapping(\"BUYSIDE EQ: Investment Theme\", \"Tech Trifecta\")\n",
    "    ]\n",
    ")\n",
    "model_cde_config = CompanyModelCDEMappingConfig()\n",
    "\n",
    "try:\n",
    "    model_results = orchestrator.publish_research(\n",
    "        template_type=CompanyModelTemplate,\n",
    "        ticker=\"CRM US Equity\",\n",
    "        data=model_data,\n",
    "        publishing_config=model_config,\n",
    "        cde_config=model_cde_config,\n",
    "        style_config=ExcelStyleConfig,\n",
    "        upload_cde=False\n",
    "    )\n",
    "    print(\"Company Model template executed successfully!\")\n",
    "except Exception as e:\n",
    "    print(f\"Company Model template failed: {e}\")"
   ]
  },
  {
   "cell_type": "code",
   "execution_count": null,
   "metadata": {},
   "outputs": [],
   "source": []
  },
  {
   "cell_type": "code",
   "execution_count": null,
   "metadata": {},
   "outputs": [],
   "source": []
  },
  {
   "cell_type": "code",
   "execution_count": null,
   "metadata": {},
   "outputs": [],
   "source": []
  },
  {
   "cell_type": "code",
   "execution_count": null,
   "metadata": {},
   "outputs": [],
   "source": []
  }
 ],
 "metadata": {
  "kernelspec": {
   "display_name": "Python 3",
   "language": "python",
   "name": "python3"
  },
  "language_info": {
   "codemirror_mode": {
    "name": "ipython",
    "version": 3
   },
   "file_extension": ".py",
   "mimetype": "text/x-python",
   "name": "python",
   "nbconvert_exporter": "python",
   "pygments_lexer": "ipython3",
   "version": "3.8.2"
  }
 },
 "nbformat": 4,
 "nbformat_minor": 2
}
