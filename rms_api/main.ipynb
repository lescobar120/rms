{
 "cells": [
  {
   "cell_type": "code",
   "execution_count": 1,
   "metadata": {},
   "outputs": [],
   "source": [
    "%load_ext autoreload\n",
    "%autoreload 2"
   ]
  },
  {
   "cell_type": "code",
   "execution_count": 2,
   "metadata": {},
   "outputs": [],
   "source": [
    "import RMSBQL\n",
    "import json"
   ]
  },
  {
   "cell_type": "code",
   "execution_count": 3,
   "metadata": {},
   "outputs": [],
   "source": [
    "config_file_name = 'test_config.json' # same config as outbound api\n",
    "\n",
    "# with open(config_file_name, \"r\") as config_file:\n",
    "#     raw_config = config_file.read()\n",
    "# config = json.loads(raw_config)"
   ]
  },
  {
   "cell_type": "code",
   "execution_count": 38,
   "metadata": {},
   "outputs": [
    {
     "name": "stdout",
     "output_type": "stream",
     "text": [
      "Loaded msim configuration\n"
     ]
    }
   ],
   "source": [
    "#rmsbql = RMSBQL.RMSBQL(config)\n",
    "\n",
    "config_dir = 'config'\n",
    "environment = 'bbg'\n",
    "rmsbql = RMSBQL.RMSBQL(config_dir=config_dir,environment=environment)"
   ]
  },
  {
   "cell_type": "code",
   "execution_count": 39,
   "metadata": {},
   "outputs": [],
   "source": [
    "query = \"get(UD_EQ_EVAL_ANALYST_ASSIGNMENT(fill=prev)) for(members('CDE:U7327812202429153280',type=cde))\""
   ]
  },
  {
   "cell_type": "code",
   "execution_count": 40,
   "metadata": {},
   "outputs": [
    {
     "name": "stdout",
     "output_type": "stream",
     "text": [
      "Error: ['Error: Undefined item: UD_EQ_EVAL_ANALYST_ASSIGNMENT(fill=prev).']\n"
     ]
    }
   ],
   "source": [
    "cde_univ_frames = rmsbql.executeBQLRequest(query)"
   ]
  },
  {
   "cell_type": "code",
   "execution_count": 22,
   "metadata": {},
   "outputs": [
    {
     "data": {
      "text/plain": [
       "dict_keys(['UD_EQ_EVAL_ANALYST_ASSIGNMENT(fill=prev)'])"
      ]
     },
     "execution_count": 22,
     "metadata": {},
     "output_type": "execute_result"
    }
   ],
   "source": [
    "cde_univ_frames.keys()"
   ]
  },
  {
   "cell_type": "code",
   "execution_count": 23,
   "metadata": {},
   "outputs": [
    {
     "data": {
      "text/html": [
       "<div>\n",
       "<style scoped>\n",
       "    .dataframe tbody tr th:only-of-type {\n",
       "        vertical-align: middle;\n",
       "    }\n",
       "\n",
       "    .dataframe tbody tr th {\n",
       "        vertical-align: top;\n",
       "    }\n",
       "\n",
       "    .dataframe thead th {\n",
       "        text-align: right;\n",
       "    }\n",
       "</style>\n",
       "<table border=\"1\" class=\"dataframe\">\n",
       "  <thead>\n",
       "    <tr style=\"text-align: right;\">\n",
       "      <th></th>\n",
       "      <th>ID</th>\n",
       "      <th>UD_EQ_EVAL_ANALYST_ASSIGNMENT(fill=prev)</th>\n",
       "      <th>DATE</th>\n",
       "    </tr>\n",
       "  </thead>\n",
       "  <tbody>\n",
       "    <tr>\n",
       "      <th>0</th>\n",
       "      <td>A US Equity</td>\n",
       "      <td>Nick Joseph</td>\n",
       "      <td>2024-12-30T00:00:00.000+00:00</td>\n",
       "    </tr>\n",
       "    <tr>\n",
       "      <th>1</th>\n",
       "      <td>COR US Equity</td>\n",
       "      <td>Nick Joseph</td>\n",
       "      <td>2024-12-30T00:00:00.000+00:00</td>\n",
       "    </tr>\n",
       "    <tr>\n",
       "      <th>2</th>\n",
       "      <td>ABT US Equity</td>\n",
       "      <td>Kathryn Elliott</td>\n",
       "      <td>2024-12-30T00:00:00.000+00:00</td>\n",
       "    </tr>\n",
       "    <tr>\n",
       "      <th>3</th>\n",
       "      <td>ADM US Equity</td>\n",
       "      <td>Victoria Sanzo de la Vega</td>\n",
       "      <td>2024-12-30T00:00:00.000+00:00</td>\n",
       "    </tr>\n",
       "    <tr>\n",
       "      <th>4</th>\n",
       "      <td>ADSK US Equity</td>\n",
       "      <td>Andrew Kaminski</td>\n",
       "      <td>2024-12-30T00:00:00.000+00:00</td>\n",
       "    </tr>\n",
       "    <tr>\n",
       "      <th>...</th>\n",
       "      <td>...</td>\n",
       "      <td>...</td>\n",
       "      <td>...</td>\n",
       "    </tr>\n",
       "    <tr>\n",
       "      <th>1178</th>\n",
       "      <td>LSXMA US Equity</td>\n",
       "      <td>Zachary Buentello</td>\n",
       "      <td>2024-12-30T00:00:00.000+00:00</td>\n",
       "    </tr>\n",
       "    <tr>\n",
       "      <th>1179</th>\n",
       "      <td>LSXMK US Equity</td>\n",
       "      <td>Zachary Buentello</td>\n",
       "      <td>2024-12-30T00:00:00.000+00:00</td>\n",
       "    </tr>\n",
       "    <tr>\n",
       "      <th>1180</th>\n",
       "      <td>FWONK US Equity</td>\n",
       "      <td>Zachary Buentello</td>\n",
       "      <td>2024-12-30T00:00:00.000+00:00</td>\n",
       "    </tr>\n",
       "    <tr>\n",
       "      <th>1181</th>\n",
       "      <td>FWONA US Equity</td>\n",
       "      <td>Zachary Buentello</td>\n",
       "      <td>2024-12-30T00:00:00.000+00:00</td>\n",
       "    </tr>\n",
       "    <tr>\n",
       "      <th>1182</th>\n",
       "      <td>VLTO US Equity</td>\n",
       "      <td>Andrew Skala</td>\n",
       "      <td>2024-12-30T00:00:00.000+00:00</td>\n",
       "    </tr>\n",
       "  </tbody>\n",
       "</table>\n",
       "<p>1183 rows × 3 columns</p>\n",
       "</div>"
      ],
      "text/plain": [
       "                   ID UD_EQ_EVAL_ANALYST_ASSIGNMENT(fill=prev)  \\\n",
       "0         A US Equity                              Nick Joseph   \n",
       "1       COR US Equity                              Nick Joseph   \n",
       "2       ABT US Equity                          Kathryn Elliott   \n",
       "3       ADM US Equity                Victoria Sanzo de la Vega   \n",
       "4      ADSK US Equity                          Andrew Kaminski   \n",
       "...               ...                                      ...   \n",
       "1178  LSXMA US Equity                        Zachary Buentello   \n",
       "1179  LSXMK US Equity                        Zachary Buentello   \n",
       "1180  FWONK US Equity                        Zachary Buentello   \n",
       "1181  FWONA US Equity                        Zachary Buentello   \n",
       "1182   VLTO US Equity                             Andrew Skala   \n",
       "\n",
       "                               DATE  \n",
       "0     2024-12-30T00:00:00.000+00:00  \n",
       "1     2024-12-30T00:00:00.000+00:00  \n",
       "2     2024-12-30T00:00:00.000+00:00  \n",
       "3     2024-12-30T00:00:00.000+00:00  \n",
       "4     2024-12-30T00:00:00.000+00:00  \n",
       "...                             ...  \n",
       "1178  2024-12-30T00:00:00.000+00:00  \n",
       "1179  2024-12-30T00:00:00.000+00:00  \n",
       "1180  2024-12-30T00:00:00.000+00:00  \n",
       "1181  2024-12-30T00:00:00.000+00:00  \n",
       "1182  2024-12-30T00:00:00.000+00:00  \n",
       "\n",
       "[1183 rows x 3 columns]"
      ]
     },
     "execution_count": 23,
     "metadata": {},
     "output_type": "execute_result"
    }
   ],
   "source": [
    "cde_univ_frames['UD_EQ_EVAL_ANALYST_ASSIGNMENT(fill=prev)']"
   ]
  },
  {
   "cell_type": "code",
   "execution_count": null,
   "metadata": {},
   "outputs": [],
   "source": []
  },
  {
   "cell_type": "markdown",
   "metadata": {},
   "source": [
    "### Document Retrieval"
   ]
  },
  {
   "cell_type": "code",
   "execution_count": 24,
   "metadata": {},
   "outputs": [],
   "source": [
    "import DocumentRetriever"
   ]
  },
  {
   "cell_type": "code",
   "execution_count": 34,
   "metadata": {},
   "outputs": [
    {
     "name": "stdout",
     "output_type": "stream",
     "text": [
      "Loaded bbg configuration\n"
     ]
    }
   ],
   "source": [
    "# Initialize Document Retriever Object\n",
    "# doc_retrieval_config_file_name = 'rms_config.json'\n",
    "# doc_retriever = DocumentRetriever.DocumentRetriever(doc_retrieval_config_file_name)\n",
    "\n",
    "config_dir = 'config'\n",
    "environment = 'bbg'\n",
    "doc_retriever = DocumentRetriever.DocumentRetriever(config_dir=config_dir)"
   ]
  },
  {
   "cell_type": "code",
   "execution_count": 35,
   "metadata": {},
   "outputs": [],
   "source": [
    "# Specify Documents to Retrieve (NOTE IDs)\n",
    "documents = [\n",
    "    '6802245183462703105',\n",
    "    '6808554980048633856',\n",
    "    '6809856290712977408',\n",
    "    '6811977394673418240',\n",
    "]\n",
    "\n",
    "doc = '7424012126903599105' # has attachments\n",
    "#doc = '7419329650482479105' # has html attachment\n",
    "#doc = '7381120680816017409' # does not have attachments\n",
    "#doc = '7434557272345804801'"
   ]
  },
  {
   "cell_type": "markdown",
   "metadata": {},
   "source": [
    "#### Retrieve NOTE Meta Data"
   ]
  },
  {
   "cell_type": "code",
   "execution_count": 36,
   "metadata": {},
   "outputs": [],
   "source": [
    "metaDataSearchResults = doc_retriever.getDocMetaData(doc)"
   ]
  },
  {
   "cell_type": "code",
   "execution_count": 37,
   "metadata": {},
   "outputs": [
    {
     "data": {
      "text/plain": [
       "dict_keys(['title', 'creator', 'lastUpdater', 'activityDate', 'eventDate', 'tags', 'attachments', 'sharing'])"
      ]
     },
     "execution_count": 37,
     "metadata": {},
     "output_type": "execute_result"
    }
   ],
   "source": [
    "metaDataSearchResults.keys()"
   ]
  },
  {
   "cell_type": "code",
   "execution_count": 33,
   "metadata": {},
   "outputs": [
    {
     "data": {
      "text/plain": [
       "[{'isDerived': False,\n",
       "  'displayName': '45200Q US Equity',\n",
       "  'type': 1,\n",
       "  'isPrimary': False,\n",
       "  'tagListName': None,\n",
       "  'figi': 'BBG000HZ4DM6',\n",
       "  'ticker': '45200Q',\n",
       "  'secNumDes': '45200Q'},\n",
       " {'isDerived': False,\n",
       "  'displayName': 'AEP US Equity',\n",
       "  'type': 1,\n",
       "  'isPrimary': False,\n",
       "  'tagListName': None,\n",
       "  'figi': 'BBG000BB9KF2',\n",
       "  'ticker': 'AEP',\n",
       "  'secNumDes': 'AEP'},\n",
       " {'isDerived': False,\n",
       "  'displayName': 'AEP 6.95 12/15/54 Corp',\n",
       "  'type': 1,\n",
       "  'isPrimary': True,\n",
       "  'tagListName': None,\n",
       "  'figi': 'BBG01NC3JTR5',\n",
       "  'ticker': 'AEP',\n",
       "  'secNumDes': 'AEP V6.95 12/15/54'},\n",
       " {'isDerived': False,\n",
       "  'displayName': 'AEP 4 ½ 08/01/32 Corp',\n",
       "  'type': 1,\n",
       "  'isPrimary': False,\n",
       "  'tagListName': None,\n",
       "  'figi': 'BBG01908FZS7',\n",
       "  'ticker': 'AEP',\n",
       "  'secNumDes': 'AEP 4.5 08/01/32 BB'},\n",
       " {'isDerived': False,\n",
       "  'displayName': 'Meeting Note',\n",
       "  'type': 80,\n",
       "  'isPrimary': False,\n",
       "  'tagListName': 'BUYSIDE CREDIT - Note Type',\n",
       "  'figi': None,\n",
       "  'ticker': None,\n",
       "  'secNumDes': None},\n",
       " {'isDerived': False,\n",
       "  'displayName': 'Credit',\n",
       "  'type': 80,\n",
       "  'isPrimary': False,\n",
       "  'tagListName': 'BUYSIDE: Buy-Side Asset Class',\n",
       "  'figi': None,\n",
       "  'ticker': None,\n",
       "  'secNumDes': None},\n",
       " {'isDerived': False,\n",
       "  'displayName': 'Environmental',\n",
       "  'type': 80,\n",
       "  'isPrimary': False,\n",
       "  'tagListName': 'BUYSIDE CREDIT: ESG Pillars',\n",
       "  'figi': None,\n",
       "  'ticker': None,\n",
       "  'secNumDes': None},\n",
       " {'isDerived': False,\n",
       "  'displayName': 'Social',\n",
       "  'type': 80,\n",
       "  'isPrimary': False,\n",
       "  'tagListName': 'BUYSIDE CREDIT: ESG Pillars',\n",
       "  'figi': None,\n",
       "  'ticker': None,\n",
       "  'secNumDes': None},\n",
       " {'isDerived': False,\n",
       "  'displayName': 'ESG Research',\n",
       "  'type': 80,\n",
       "  'isPrimary': False,\n",
       "  'tagListName': 'BUYSIDE CREDIT: ESG Note Type',\n",
       "  'figi': None,\n",
       "  'ticker': None,\n",
       "  'secNumDes': None},\n",
       " {'isDerived': False,\n",
       "  'displayName': 'Annual Review',\n",
       "  'type': 80,\n",
       "  'isPrimary': False,\n",
       "  'tagListName': 'BUYSIDE CREDIT - Note Type',\n",
       "  'figi': None,\n",
       "  'ticker': None,\n",
       "  'secNumDes': None},\n",
       " {'isDerived': False,\n",
       "  'displayName': 'Victoria Sanzo De La Vega (Bloomberg LP)',\n",
       "  'type': 3,\n",
       "  'isPrimary': False,\n",
       "  'tagListName': None,\n",
       "  'figi': None,\n",
       "  'ticker': None,\n",
       "  'secNumDes': None},\n",
       " {'isDerived': False,\n",
       "  'displayName': 'Victoria Sanzo De La Vega (Bloomberg LP)',\n",
       "  'type': 91,\n",
       "  'isPrimary': False,\n",
       "  'tagListName': None,\n",
       "  'figi': None,\n",
       "  'ticker': None,\n",
       "  'secNumDes': None}]"
      ]
     },
     "execution_count": 33,
     "metadata": {},
     "output_type": "execute_result"
    }
   ],
   "source": [
    "metaDataSearchResults['tags']"
   ]
  },
  {
   "cell_type": "markdown",
   "metadata": {},
   "source": [
    "#### Retrieve NOTE Attachments"
   ]
  },
  {
   "cell_type": "code",
   "execution_count": 59,
   "metadata": {},
   "outputs": [],
   "source": [
    "attachments = doc_retriever.getDocAttachments(metaDataSearchResults)"
   ]
  },
  {
   "cell_type": "code",
   "execution_count": 60,
   "metadata": {},
   "outputs": [
    {
     "data": {
      "text/plain": [
       "[{'name': 'BUYSIDE CREDIT - Structured Word Template.pdf',\n",
       "  'fileId': '23508056_BUYSIDE CREDIT - Structured Word Template_670763B000016FA72C9E0002.pdf',\n",
       "  'extension': '.pdf'},\n",
       " {'name': 'Note Summary', 'fileId': None, 'extension': '.html'},\n",
       " {'name': 'BUYSIDE CREDIT - Structured Word Template.docx',\n",
       "  'fileId': '23508056_BUYSIDE CREDIT - Structured Word Template_670763B000016FA72C9E0001.docx',\n",
       "  'extension': '.docx'}]"
      ]
     },
     "execution_count": 60,
     "metadata": {},
     "output_type": "execute_result"
    }
   ],
   "source": [
    "attachments"
   ]
  },
  {
   "cell_type": "markdown",
   "metadata": {},
   "source": [
    "#### Retrieve a Specified Attachment Using File ID"
   ]
  },
  {
   "cell_type": "code",
   "execution_count": 41,
   "metadata": {},
   "outputs": [],
   "source": [
    "fileId = attachments[0]['fileId']\n",
    "noteAttachmentSearchResults = doc_retriever.getDocument(doc, fileId)"
   ]
  },
  {
   "cell_type": "code",
   "execution_count": 42,
   "metadata": {},
   "outputs": [
    {
     "data": {
      "text/plain": [
       "<Response [200]>"
      ]
     },
     "execution_count": 42,
     "metadata": {},
     "output_type": "execute_result"
    }
   ],
   "source": [
    "noteAttachmentSearchResults"
   ]
  },
  {
   "cell_type": "markdown",
   "metadata": {},
   "source": [
    "#### Save Retrieved File to Secified Path"
   ]
  },
  {
   "cell_type": "code",
   "execution_count": 31,
   "metadata": {},
   "outputs": [],
   "source": [
    "# Recreate file name (should be the same as fileID)\n",
    "i = noteAttachmentSearchResults.request.url.find('attachmentId=') + len('attachmentId=')\n",
    "# path = 'documents/' + noteAttachmentSearchResults.request.url[i:].replace('%20',' ')\n",
    "path = 'documents/' + fileId\n",
    "doc_retriever.saveFile(noteAttachmentSearchResults, path)"
   ]
  },
  {
   "cell_type": "markdown",
   "metadata": {},
   "source": [
    "#### Combine Each Step in the Document Attachment Retrieval & Storage Process into a Single Method"
   ]
  },
  {
   "cell_type": "code",
   "execution_count": 32,
   "metadata": {},
   "outputs": [
    {
     "name": "stdout",
     "output_type": "stream",
     "text": [
      "3 attachments were retrieved from document 7424012126903599105\n",
      "1 attachments met retrieval criteria\n",
      "\n",
      "Retrieving 23508056_BUYSIDE CREDIT - Structured Word Template_670763B000016FA72C9E0002.pdf...\n",
      "Saving 23508056_BUYSIDE CREDIT - Structured Word Template_670763B000016FA72C9E0002.pdf...\n",
      "\n",
      "1 document attachment saved\n"
     ]
    }
   ],
   "source": [
    "doc = '7424012126903599105'\n",
    "base_path = 'documents/'\n",
    "saved_attachments = doc_retriever.transplantDocAttachments(doc, base_path, file_types=['.pdf'])"
   ]
  },
  {
   "cell_type": "markdown",
   "metadata": {},
   "source": [
    "#### Retrieve Attachments for Multiple Documents"
   ]
  },
  {
   "cell_type": "code",
   "execution_count": 85,
   "metadata": {},
   "outputs": [],
   "source": [
    "# Specify Documents to Retrieve (NOTE IDs)\n",
    "documents = [\n",
    "    '6802245183462703105',\n",
    "    '6808554980048633856',\n",
    "    '6809856290712977408',\n",
    "    '6811977394673418240',\n",
    "]\n",
    "base_path = 'documents/'"
   ]
  },
  {
   "cell_type": "markdown",
   "metadata": {},
   "source": [
    "##### Using Threading (Synchronous)"
   ]
  },
  {
   "cell_type": "code",
   "execution_count": 92,
   "metadata": {},
   "outputs": [
    {
     "name": "stdout",
     "output_type": "stream",
     "text": [
      "Starting batch processing of 4 documents...\n",
      "3 attachments were retrieved from document 6809856290712977408\n",
      "1 attachments met retrieval criteria\n",
      "\n",
      "Retrieving 13806294_ERM Scorecard - ERS CDEMapped_5E8178410001444E16DC0001.pdf...\n",
      "3 attachments were retrieved from document 6808554980048633856\n",
      "1 attachments met retrieval criteria\n",
      "\n",
      "Retrieving 13806294_T.Rowe Scorecard_228_CDEMAP_5E8147550001444E16DC0002.pdf...\n",
      "3 attachments were retrieved from document 6811977394673418240\n",
      "1 attachments met retrieval criteria\n",
      "\n",
      "Retrieving 13806294_Dummy Upload_5E8C98950001941F16DA0002.pdf...\n",
      "3 attachments were retrieved from document 6802245183462703105\n",
      "1 attachments met retrieval criteria\n",
      "\n",
      "Retrieving 12382079_ERM Scorecard - TRS_5E666E010001FE4B16DB0002.pdf...\n",
      "Saving 13806294_T.Rowe Scorecard_228_CDEMAP_5E8147550001444E16DC0002.pdf...\n",
      "\n",
      "1 document attachment saved\n",
      "Progress: 1/4 documents processed\n",
      "Successfully processed document 6808554980048633856 (1 attachments saved)\n",
      "Saving 13806294_Dummy Upload_5E8C98950001941F16DA0002.pdf...\n",
      "\n",
      "1 document attachment saved\n",
      "Progress: 2/4 documents processed\n",
      "Successfully processed document 6811977394673418240 (1 attachments saved)\n",
      "Saving 13806294_ERM Scorecard - ERS CDEMapped_5E8178410001444E16DC0001.pdf...\n",
      "\n",
      "1 document attachment saved\n",
      "Progress: 3/4 documents processed\n",
      "Successfully processed document 6809856290712977408 (1 attachments saved)\n",
      "Saving 12382079_ERM Scorecard - TRS_5E666E010001FE4B16DB0002.pdf...\n",
      "\n",
      "1 document attachment saved\n",
      "Progress: 4/4 documents processed\n",
      "Successfully processed document 6802245183462703105 (1 attachments saved)\n",
      "\n",
      "Batch processing complete:\n",
      "- Total documents: 4\n",
      "- Successfully processed: 4\n",
      "- Failed: 0\n"
     ]
    }
   ],
   "source": [
    "doc_retrieval_results = doc_retriever.batch_process_documents(\n",
    "    docs=documents,\n",
    "    base_path=base_path,\n",
    "    file_types=['.pdf'],\n",
    "    max_workers=4  # Adjust based on your needs\n",
    ")"
   ]
  },
  {
   "cell_type": "code",
   "execution_count": 87,
   "metadata": {},
   "outputs": [
    {
     "name": "stdout",
     "output_type": "stream",
     "text": [
      "Batch Processing Report\n",
      "======================\n",
      "\n",
      "Summary Statistics:\n",
      "- Total documents processed: 4\n",
      "- Successfully processed: 4\n",
      "- Failed: 0\n",
      "\n",
      "Detailed Results:\n",
      "---------------\n",
      "\n",
      "Successfully Processed Documents:\n",
      "- 6802245183462703105 (1 attachments)\n",
      "- 6811977394673418240 (1 attachments)\n",
      "- 6809856290712977408 (1 attachments)\n",
      "- 6808554980048633856 (1 attachments)\n"
     ]
    }
   ],
   "source": [
    "# Generate and print a report\n",
    "report = doc_retriever.generate_batch_report(doc_retrieval_results)\n",
    "print(report)"
   ]
  },
  {
   "cell_type": "code",
   "execution_count": 89,
   "metadata": {},
   "outputs": [
    {
     "name": "stdout",
     "output_type": "stream",
     "text": [
      "Document 6802245183462703105 saved 1 attachments\n",
      "Document 6811977394673418240 saved 1 attachments\n",
      "Document 6809856290712977408 saved 1 attachments\n",
      "Document 6808554980048633856 saved 1 attachments\n"
     ]
    }
   ],
   "source": [
    "# You can also access individual results\n",
    "for doc_id, result in doc_retrieval_results.items():\n",
    "    if result.success:\n",
    "        print(f\"Document {doc_id} saved {len(result.saved_attachments)} attachments\")\n",
    "    else:\n",
    "        print(f\"Document {doc_id} failed: {result.error_message}\")"
   ]
  },
  {
   "cell_type": "code",
   "execution_count": 90,
   "metadata": {},
   "outputs": [
    {
     "data": {
      "text/plain": [
       "{'6802245183462703105': DocumentProcessResult(doc_id='6802245183462703105', success=True, saved_attachments=['12382079_ERM Scorecard - TRS_5E666E010001FE4B16DB0002.pdf'], error_message=None),\n",
       " '6811977394673418240': DocumentProcessResult(doc_id='6811977394673418240', success=True, saved_attachments=['13806294_Dummy Upload_5E8C98950001941F16DA0002.pdf'], error_message=None),\n",
       " '6809856290712977408': DocumentProcessResult(doc_id='6809856290712977408', success=True, saved_attachments=['13806294_ERM Scorecard - ERS CDEMapped_5E8178410001444E16DC0001.pdf'], error_message=None),\n",
       " '6808554980048633856': DocumentProcessResult(doc_id='6808554980048633856', success=True, saved_attachments=['13806294_T.Rowe Scorecard_228_CDEMAP_5E8147550001444E16DC0002.pdf'], error_message=None)}"
      ]
     },
     "execution_count": 90,
     "metadata": {},
     "output_type": "execute_result"
    }
   ],
   "source": [
    "doc_retrieval_results"
   ]
  },
  {
   "cell_type": "markdown",
   "metadata": {},
   "source": [
    "##### Using async/await (Asynchronous)"
   ]
  },
  {
   "cell_type": "code",
   "execution_count": 99,
   "metadata": {},
   "outputs": [],
   "source": [
    "import asyncio\n",
    "import nest_asyncio"
   ]
  },
  {
   "cell_type": "code",
   "execution_count": 100,
   "metadata": {},
   "outputs": [],
   "source": [
    "# This is the correct way to run async code in Jupyter/IPython\n",
    "nest_asyncio.apply()  # This allows for nested event loops"
   ]
  },
  {
   "cell_type": "code",
   "execution_count": 101,
   "metadata": {},
   "outputs": [],
   "source": [
    "# async def main():\n",
    "#     retriever = DocumentRetriever.DocumentRetriever('config', environment='bbg')\n",
    "#     document_ids = [\n",
    "#         '6802245183462703105',\n",
    "#         '6808554980048633856',\n",
    "#         '6809856290712977408',\n",
    "#         '6811977394673418240',\n",
    "#     ]\n",
    "\n",
    "#     results = await retriever.async_batch_process_documents(\n",
    "#         docs=document_ids,\n",
    "#         base_path='documents/',\n",
    "#         file_types=['.pdf'],\n",
    "#         max_concurrent=4\n",
    "#     )\n",
    "    \n",
    "#     # Generate report\n",
    "#     report = retriever.generate_batch_report(results)\n",
    "#     print(report)\n",
    "\n",
    "# # Run the async code\n",
    "# asyncio.run(main())"
   ]
  },
  {
   "cell_type": "code",
   "execution_count": 7,
   "metadata": {},
   "outputs": [],
   "source": [
    "async def main():\n",
    "    retriever = DocumentRetriever.DocumentRetriever('config', environment='bbg')\n",
    "    document_ids = [\n",
    "        '6802245183462703105',\n",
    "        '6808554980048633856',\n",
    "        '6809856290712977408',\n",
    "        '6811977394673418240',\n",
    "    ]\n",
    "    \n",
    "    results = await retriever.async_batch_process_documents(\n",
    "        docs=document_ids,\n",
    "        base_path='documents/',\n",
    "        file_types=['.pdf'],\n",
    "        max_concurrent=4\n",
    "    )\n",
    "    \n",
    "    # Generate report\n",
    "    report = retriever.generate_batch_report(results)\n",
    "    print(report)"
   ]
  },
  {
   "cell_type": "code",
   "execution_count": 8,
   "metadata": {},
   "outputs": [
    {
     "name": "stdout",
     "output_type": "stream",
     "text": [
      "Loaded bbg configuration\n",
      "Starting async batch processing of 4 documents...\n",
      "Progress: 1/4 documents processed\n",
      "Successfully processed document 6802245183462703105\n",
      "Progress: 2/4 documents processed\n",
      "Successfully processed document 6811977394673418240\n",
      "Progress: 3/4 documents processed\n",
      "Successfully processed document 6808554980048633856\n",
      "Progress: 4/4 documents processed\n",
      "Successfully processed document 6809856290712977408\n",
      "\n",
      "Async batch processing complete:\n",
      "- Total documents: 4\n",
      "- Successfully processed: 4\n",
      "- Failed: 0\n",
      "Batch Processing Report\n",
      "======================\n",
      "\n",
      "Summary Statistics:\n",
      "- Total documents processed: 4\n",
      "- Successfully processed: 4\n",
      "- Failed: 0\n",
      "\n",
      "Detailed Results:\n",
      "---------------\n",
      "\n",
      "Successfully Processed Documents:\n",
      "- 6802245183462703105 (1 attachments)\n",
      "- 6811977394673418240 (1 attachments)\n",
      "- 6808554980048633856 (1 attachments)\n",
      "- 6809856290712977408 (1 attachments)\n"
     ]
    }
   ],
   "source": [
    "await main()  # Note: we use 'await' directly instead of asyncio.run()"
   ]
  },
  {
   "cell_type": "code",
   "execution_count": null,
   "metadata": {},
   "outputs": [],
   "source": []
  }
 ],
 "metadata": {
  "kernelspec": {
   "display_name": "Python 3",
   "language": "python",
   "name": "python3"
  },
  "language_info": {
   "codemirror_mode": {
    "name": "ipython",
    "version": 3
   },
   "file_extension": ".py",
   "mimetype": "text/x-python",
   "name": "python",
   "nbconvert_exporter": "python",
   "pygments_lexer": "ipython3",
   "version": "3.8.2"
  }
 },
 "nbformat": 4,
 "nbformat_minor": 2
}
