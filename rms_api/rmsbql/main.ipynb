{
 "cells": [
  {
   "cell_type": "code",
   "execution_count": 1,
   "metadata": {},
   "outputs": [],
   "source": [
    "%load_ext autoreload\n",
    "%autoreload 2"
   ]
  },
  {
   "cell_type": "code",
   "execution_count": 2,
   "metadata": {},
   "outputs": [
    {
     "name": "stderr",
     "output_type": "stream",
     "text": [
      "/Users/lucasescobar/Desktop/ebg/bloomberg_apis/bloomberg_apis_env/lib/python3.8/site-packages/urllib3/__init__.py:35: NotOpenSSLWarning: urllib3 v2 only supports OpenSSL 1.1.1+, currently the 'ssl' module is compiled with 'LibreSSL 2.8.3'. See: https://github.com/urllib3/urllib3/issues/3020\n",
      "  warnings.warn(\n"
     ]
    },
    {
     "name": "stdout",
     "output_type": "stream",
     "text": [
      "Success: bloomberg_apis package imported\n",
      "Package location: /Users/lucasescobar/Desktop/ebg/bloomberg_apis/bloomberg_apis/__init__.py\n"
     ]
    }
   ],
   "source": [
    "import bloomberg_apis\n",
    "print(\"Success: bloomberg_apis package imported\")\n",
    "print(f\"Package location: {bloomberg_apis.__file__}\")"
   ]
  },
  {
   "cell_type": "code",
   "execution_count": 3,
   "metadata": {},
   "outputs": [
    {
     "name": "stdout",
     "output_type": "stream",
     "text": [
      "Success: initialize_clients imported\n"
     ]
    }
   ],
   "source": [
    "from bloomberg_apis.rms_api import initialize_clients\n",
    "print(\"Success: initialize_clients imported\")"
   ]
  },
  {
   "cell_type": "code",
   "execution_count": 4,
   "metadata": {},
   "outputs": [],
   "source": [
    "# # Setup for rms_api imports\n",
    "# import sys\n",
    "# from pathlib import Path\n",
    "\n",
    "# # Add rmsbql directory to path for setup_utils\n",
    "# notebook_dir = Path().absolute()\n",
    "# rmsbql_dir = notebook_dir\n",
    "# while rmsbql_dir.name != 'rmsbql':\n",
    "#     rmsbql_dir = rmsbql_dir.parent\n",
    "# if str(rmsbql_dir) not in sys.path:\n",
    "#     sys.path.append(str(rmsbql_dir))\n",
    "\n",
    "# from setup_utils import setup_rms_api_imports, get_relative_notebook_path\n",
    "\n",
    "# # Set up imports and print diagnostic information\n",
    "# project_root = setup_rms_api_imports()\n",
    "# print(f\"Project root: {project_root}\")\n",
    "# print(f\"Current notebook location: {get_relative_notebook_path()}\")"
   ]
  },
  {
   "cell_type": "code",
   "execution_count": 5,
   "metadata": {},
   "outputs": [
    {
     "name": "stdout",
     "output_type": "stream",
     "text": [
      "Loaded bbg configuration\n"
     ]
    }
   ],
   "source": [
    "# Import and initialize RMSBQL client\n",
    "from bloomberg_apis.rms_api import initialize_rmsbql_client\n",
    "bql_client = initialize_rmsbql_client(environment='bbg')"
   ]
  },
  {
   "cell_type": "code",
   "execution_count": 6,
   "metadata": {},
   "outputs": [],
   "source": [
    "query = \"get(UD_EQ_EVAL_ANALYST_ASSIGNMENT(fill=prev)) for(members('CDE:U7327812202429153280',type=cde))\""
   ]
  },
  {
   "cell_type": "code",
   "execution_count": 7,
   "metadata": {},
   "outputs": [],
   "source": [
    "cde_univ_frames = bql_client.executeBQLRequest(query)"
   ]
  },
  {
   "cell_type": "code",
   "execution_count": 8,
   "metadata": {},
   "outputs": [
    {
     "data": {
      "text/plain": [
       "dict_keys(['UD_EQ_EVAL_ANALYST_ASSIGNMENT(fill=prev)'])"
      ]
     },
     "execution_count": 8,
     "metadata": {},
     "output_type": "execute_result"
    }
   ],
   "source": [
    "cde_univ_frames.keys()"
   ]
  },
  {
   "cell_type": "code",
   "execution_count": 9,
   "metadata": {},
   "outputs": [
    {
     "data": {
      "text/html": [
       "<div>\n",
       "<style scoped>\n",
       "    .dataframe tbody tr th:only-of-type {\n",
       "        vertical-align: middle;\n",
       "    }\n",
       "\n",
       "    .dataframe tbody tr th {\n",
       "        vertical-align: top;\n",
       "    }\n",
       "\n",
       "    .dataframe thead th {\n",
       "        text-align: right;\n",
       "    }\n",
       "</style>\n",
       "<table border=\"1\" class=\"dataframe\">\n",
       "  <thead>\n",
       "    <tr style=\"text-align: right;\">\n",
       "      <th></th>\n",
       "      <th>ID</th>\n",
       "      <th>UD_EQ_EVAL_ANALYST_ASSIGNMENT(fill=prev)</th>\n",
       "      <th>DATE</th>\n",
       "    </tr>\n",
       "  </thead>\n",
       "  <tbody>\n",
       "    <tr>\n",
       "      <th>0</th>\n",
       "      <td>A US Equity</td>\n",
       "      <td>Nick Joseph</td>\n",
       "      <td>2024-12-30T00:00:00.000+00:00</td>\n",
       "    </tr>\n",
       "    <tr>\n",
       "      <th>1</th>\n",
       "      <td>COR US Equity</td>\n",
       "      <td>Nick Joseph</td>\n",
       "      <td>2024-12-30T00:00:00.000+00:00</td>\n",
       "    </tr>\n",
       "    <tr>\n",
       "      <th>2</th>\n",
       "      <td>ABT US Equity</td>\n",
       "      <td>Kathryn Elliott</td>\n",
       "      <td>2024-12-30T00:00:00.000+00:00</td>\n",
       "    </tr>\n",
       "    <tr>\n",
       "      <th>3</th>\n",
       "      <td>ADM US Equity</td>\n",
       "      <td>Victoria Sanzo de la Vega</td>\n",
       "      <td>2024-12-30T00:00:00.000+00:00</td>\n",
       "    </tr>\n",
       "    <tr>\n",
       "      <th>4</th>\n",
       "      <td>ADSK US Equity</td>\n",
       "      <td>Andrew Kaminski</td>\n",
       "      <td>2024-12-30T00:00:00.000+00:00</td>\n",
       "    </tr>\n",
       "    <tr>\n",
       "      <th>...</th>\n",
       "      <td>...</td>\n",
       "      <td>...</td>\n",
       "      <td>...</td>\n",
       "    </tr>\n",
       "    <tr>\n",
       "      <th>1178</th>\n",
       "      <td>LSXMA US Equity</td>\n",
       "      <td>Zachary Buentello</td>\n",
       "      <td>2024-12-30T00:00:00.000+00:00</td>\n",
       "    </tr>\n",
       "    <tr>\n",
       "      <th>1179</th>\n",
       "      <td>LSXMK US Equity</td>\n",
       "      <td>Zachary Buentello</td>\n",
       "      <td>2024-12-30T00:00:00.000+00:00</td>\n",
       "    </tr>\n",
       "    <tr>\n",
       "      <th>1180</th>\n",
       "      <td>FWONK US Equity</td>\n",
       "      <td>Zachary Buentello</td>\n",
       "      <td>2024-12-30T00:00:00.000+00:00</td>\n",
       "    </tr>\n",
       "    <tr>\n",
       "      <th>1181</th>\n",
       "      <td>FWONA US Equity</td>\n",
       "      <td>Zachary Buentello</td>\n",
       "      <td>2024-12-30T00:00:00.000+00:00</td>\n",
       "    </tr>\n",
       "    <tr>\n",
       "      <th>1182</th>\n",
       "      <td>VLTO US Equity</td>\n",
       "      <td>Andrew Skala</td>\n",
       "      <td>2024-12-30T00:00:00.000+00:00</td>\n",
       "    </tr>\n",
       "  </tbody>\n",
       "</table>\n",
       "<p>1183 rows × 3 columns</p>\n",
       "</div>"
      ],
      "text/plain": [
       "                   ID UD_EQ_EVAL_ANALYST_ASSIGNMENT(fill=prev)  \\\n",
       "0         A US Equity                              Nick Joseph   \n",
       "1       COR US Equity                              Nick Joseph   \n",
       "2       ABT US Equity                          Kathryn Elliott   \n",
       "3       ADM US Equity                Victoria Sanzo de la Vega   \n",
       "4      ADSK US Equity                          Andrew Kaminski   \n",
       "...               ...                                      ...   \n",
       "1178  LSXMA US Equity                        Zachary Buentello   \n",
       "1179  LSXMK US Equity                        Zachary Buentello   \n",
       "1180  FWONK US Equity                        Zachary Buentello   \n",
       "1181  FWONA US Equity                        Zachary Buentello   \n",
       "1182   VLTO US Equity                             Andrew Skala   \n",
       "\n",
       "                               DATE  \n",
       "0     2024-12-30T00:00:00.000+00:00  \n",
       "1     2024-12-30T00:00:00.000+00:00  \n",
       "2     2024-12-30T00:00:00.000+00:00  \n",
       "3     2024-12-30T00:00:00.000+00:00  \n",
       "4     2024-12-30T00:00:00.000+00:00  \n",
       "...                             ...  \n",
       "1178  2024-12-30T00:00:00.000+00:00  \n",
       "1179  2024-12-30T00:00:00.000+00:00  \n",
       "1180  2024-12-30T00:00:00.000+00:00  \n",
       "1181  2024-12-30T00:00:00.000+00:00  \n",
       "1182  2024-12-30T00:00:00.000+00:00  \n",
       "\n",
       "[1183 rows x 3 columns]"
      ]
     },
     "execution_count": 9,
     "metadata": {},
     "output_type": "execute_result"
    }
   ],
   "source": [
    "cde_univ_frames['UD_EQ_EVAL_ANALYST_ASSIGNMENT(fill=prev)']"
   ]
  },
  {
   "cell_type": "code",
   "execution_count": null,
   "metadata": {},
   "outputs": [],
   "source": []
  },
  {
   "cell_type": "code",
   "execution_count": null,
   "metadata": {},
   "outputs": [],
   "source": []
  }
 ],
 "metadata": {
  "kernelspec": {
   "display_name": "bloomberg_apis_env",
   "language": "python",
   "name": "python3"
  },
  "language_info": {
   "codemirror_mode": {
    "name": "ipython",
    "version": 3
   },
   "file_extension": ".py",
   "mimetype": "text/x-python",
   "name": "python",
   "nbconvert_exporter": "python",
   "pygments_lexer": "ipython3",
   "version": "3.8.2"
  }
 },
 "nbformat": 4,
 "nbformat_minor": 2
}
