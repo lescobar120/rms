{
 "cells": [
  {
   "cell_type": "code",
   "execution_count": 1,
   "metadata": {},
   "outputs": [],
   "source": [
    "%load_ext autoreload\n",
    "%autoreload 2"
   ]
  },
  {
   "cell_type": "code",
   "execution_count": 1,
   "metadata": {},
   "outputs": [
    {
     "ename": "ModuleNotFoundError",
     "evalue": "No module named 'requests'",
     "output_type": "error",
     "traceback": [
      "\u001b[0;31m---------------------------------------------------------------------------\u001b[0m",
      "\u001b[0;31mModuleNotFoundError\u001b[0m                       Traceback (most recent call last)",
      "Cell \u001b[0;32mIn[1], line 9\u001b[0m\n\u001b[1;32m      6\u001b[0m \u001b[38;5;28;01mimport\u001b[39;00m \u001b[38;5;21;01mtime\u001b[39;00m\n\u001b[1;32m      7\u001b[0m \u001b[38;5;28;01mimport\u001b[39;00m \u001b[38;5;21;01mjson\u001b[39;00m\n\u001b[0;32m----> 9\u001b[0m \u001b[38;5;28;01mimport\u001b[39;00m \u001b[38;5;21;01mrequests\u001b[39;00m\n\u001b[1;32m     10\u001b[0m \u001b[38;5;28;01mimport\u001b[39;00m \u001b[38;5;21;01mpydantic\u001b[39;00m\n\u001b[1;32m     11\u001b[0m \u001b[38;5;28;01mimport\u001b[39;00m \u001b[38;5;21;01mtyping\u001b[39;00m\n",
      "\u001b[0;31mModuleNotFoundError\u001b[0m: No module named 'requests'"
     ]
    }
   ],
   "source": [
    "#import ipywidgets as ipw\n",
    "\n",
    "import numpy as np\n",
    "import pandas as pd\n",
    "import datetime\n",
    "import time\n",
    "import json\n",
    "\n",
    "import requests\n",
    "import pydantic\n",
    "import typing\n",
    "import enum\n",
    "\n",
    "import urllib\n",
    "import importlib"
   ]
  },
  {
   "cell_type": "code",
   "execution_count": null,
   "metadata": {},
   "outputs": [],
   "source": [
    "#import RMSBQL\n",
    "import NotePublisher"
   ]
  },
  {
   "cell_type": "code",
   "execution_count": null,
   "metadata": {},
   "outputs": [],
   "source": [
    "config_file_name = 'bql_rms_rest_api_config.json'\n",
    "note_pub = NotePublisher.NotePublisher(config_file_name)"
   ]
  },
  {
   "cell_type": "code",
   "execution_count": null,
   "metadata": {},
   "outputs": [],
   "source": [
    "url = note_pub.getURL()\n",
    "uuid = note_pub.getUUID()\n",
    "__headers = note_pub.getHeaders()\n",
    "tokens = note_pub.getTokens()\n",
    "__synchronizerToken = tokens['synchronizerToken']\n",
    "__synchronizerUri = tokens['synchronizerUri']"
   ]
  },
  {
   "cell_type": "code",
   "execution_count": null,
   "metadata": {},
   "outputs": [],
   "source": [
    "### UUID SHAREABLE DESCRIPTIONS\n",
    "# 'BLOOMBERG/ 731 LEX'\n",
    "# 'BLOOMBERG/ 919 3RD AVE'\n",
    "\n",
    "\n",
    "### PEOPLE/AUTHOR DESCRIPTIONS\n",
    "\n",
    "# 'Bloomberg LP'"
   ]
  },
  {
   "cell_type": "code",
   "execution_count": null,
   "metadata": {},
   "outputs": [],
   "source": [
    "_search = 'AAL'\n",
    "tags_autocomplete = requests.get(f'{url}ClipServ/upload/getTagsAutocomplete?sub={_search}&uuid={uuid}', headers=__headers).json()\n",
    "tags_autocomplete.keys()"
   ]
  },
  {
   "cell_type": "code",
   "execution_count": null,
   "metadata": {},
   "outputs": [],
   "source": [
    "pd.DataFrame(tags_autocomplete['SECURITIES'])"
   ]
  },
  {
   "cell_type": "code",
   "execution_count": null,
   "metadata": {},
   "outputs": [],
   "source": [
    "#####  FIXED INCOME  #####\n",
    "\n",
    "__cmty = 'Lucas Test CMTY'\n",
    "__user = 'Lucas Escobar'\n",
    "__taglist = 'BUYSIDE CREDIT: Research Teams'\n",
    "__taglist_enum = 'USIG'\n",
    "__corp = 'AAL Corp'\n",
    "__security1 = 'AAL 6.5 07/01/2025 Corp'\n",
    "__security2 = 'AAL 5.9 10/01/2024 Corp'\n",
    "\n",
    "cmty = NotePublisher.CMTY(**note_pub.buildCMTY(__cmty))\n",
    "bbg_user_to_share = NotePublisher.BBG_USER(**note_pub.buildUser(user_name=__user,user_type=\"WORKGROUPS\"))\n",
    "bbg_user_to_tag = NotePublisher.BBG_USER(**note_pub.buildUser(user_name=__user,user_type=\"PEOPLE\"))\n",
    "bbg_user_author = NotePublisher.BBG_USER(**note_pub.buildUser(user_name=__user,user_type=\"AUTHORS\"))\n",
    "usig_taglist = NotePublisher.TAGLIST(**note_pub.buildTaglistEnum(__taglist, __taglist_enum))\n",
    "\n",
    "corp = NotePublisher.NOTE_SECURITY(**note_pub.buildCorpTickerTag(__corp))\n",
    "security1 = NotePublisher.NOTE_SECURITY(**note_pub.buildSecurityTag(__security1))\n",
    "security2 = NotePublisher.NOTE_SECURITY(**note_pub.buildSecurityTag(__security2))"
   ]
  },
  {
   "cell_type": "code",
   "execution_count": null,
   "metadata": {},
   "outputs": [],
   "source": [
    "#####  EQUITY  #####\n",
    "\n",
    "__cmty = 'Lucas Test CMTY'\n",
    "__user = 'Hamdi Mohamed'\n",
    "__taglist = 'BUYSIDE EQ: Note Type'\n",
    "__taglist_enum = 'Company Model'\n",
    "__security = 'MS US Equity'\n",
    "\n",
    "cmty = NotePublisher.CMTY(**note_pub.buildCMTY(__cmty))\n",
    "bbg_user_to_share = NotePublisher.BBG_USER(**note_pub.buildUser(user_name=__user,user_type=\"WORKGROUPS\"))\n",
    "bbg_user_to_tag = NotePublisher.BBG_USER(**note_pub.buildUser(user_name=__user,user_type=\"PEOPLE\"))\n",
    "bbg_user_author = NotePublisher.BBG_USER(**note_pub.buildUser(user_name=__user,user_type=\"AUTHORS\"))\n",
    "model_taglist = NotePublisher.TAGLIST(**note_pub.buildTaglistEnum(__taglist, __taglist_enum))\n",
    "\n",
    "security = NotePublisher.NOTE_SECURITY(**note_pub.buildSecurityTag(__security))"
   ]
  },
  {
   "cell_type": "code",
   "execution_count": null,
   "metadata": {},
   "outputs": [],
   "source": [
    "# Validating a Pydantic model instance\n",
    "# try:\n",
    "#     cmty = NotePublisher.CMTY(**note_pub.buildCMTY(__cmty))\n",
    "#     print(cmty.dict())  # Serialize model to a dictionary\n",
    "# except pydantic.ValidationError as e:\n",
    "#     print(e.json())  # Pretty-print validation errors\n",
    "#     print(e)"
   ]
  },
  {
   "cell_type": "code",
   "execution_count": null,
   "metadata": {},
   "outputs": [],
   "source": [
    "#####  FIXED INCOME  #####\n",
    "\n",
    "__note_title = 'API DEMO 5/30/25'\n",
    "__note_body = \"\"\"This is an API Test Note!\n",
    "\n",
    "Tags:\n",
    "    > People (People and Author)\n",
    "    > Securities (securities and corp ticker)\n",
    "    > Taglist(s) (Note Type)\n",
    "\n",
    "Shareables:\n",
    "    > CMTYs\n",
    "    > Individual Users\n",
    "    > SPDLs (not yet)\n",
    "\n",
    "Meta Data:\n",
    "    > Note Title\n",
    "    > Note Body\n",
    "    > Note Creation Date\n",
    "\n",
    "Attachments:\n",
    "    > Word Document\n",
    "\"\"\"\n",
    "__as_of_date = int(datetime.datetime.strptime('2025-05-30', '%Y-%m-%d').timestamp() * 1000)\n",
    "__note_tags = [\n",
    "    usig_taglist.model_dump(), # Taglists\n",
    "    bbg_user_to_tag.model_dump(), bbg_user_author.model_dump(), # Users\n",
    "    corp.model_dump(), security1.model_dump(), security2.model_dump() # Securities\n",
    "    ]\n",
    "__share_with = [\n",
    "    cmty.model_dump(), # CMTYs\n",
    "    bbg_user_to_share.model_dump() # Users\n",
    "    ]\n",
    "__analyst_value = 'Lucas Escobar'\n",
    "__attachment_files = ['AAL_new_issue_comment.docx']"
   ]
  },
  {
   "cell_type": "code",
   "execution_count": null,
   "metadata": {},
   "outputs": [],
   "source": [
    "#####  EQUITY  #####\n",
    "\n",
    "__note_title = 'MS API Test Note'\n",
    "__note_body = \"\"\"This is an API Test Note!\n",
    "\n",
    "Tags:\n",
    "    > People (People and Author)\n",
    "    > Securities (securities and corp ticker)\n",
    "    > Taglist(s) (Note Type)\n",
    "\n",
    "Shareables:\n",
    "    > CMTYs\n",
    "    > Individual Users\n",
    "    > SPDLs (not yet)\n",
    "\n",
    "Meta Data:\n",
    "    > Note Title\n",
    "    > Note Body\n",
    "    > Note Creation Date\n",
    "\n",
    "Attachments:\n",
    "    > Word Document\n",
    "\"\"\"\n",
    "__as_of_date = int(datetime.datetime.strptime('2025-03-24', '%Y-%m-%d').timestamp() * 1000)\n",
    "__note_tags = [\n",
    "    model_taglist.model_dump(), # Taglists\n",
    "    bbg_user_to_tag.model_dump(), bbg_user_author.model_dump(), # Users\n",
    "    security.model_dump() # Securities\n",
    "    ]\n",
    "__share_with = [\n",
    "    cmty.model_dump(), # CMTYs\n",
    "    bbg_user_to_share.model_dump() # Users\n",
    "    ]\n",
    "__analyst_value = 'Lucas Escobar'\n",
    "__attachment_files = ['ms_company_model.xlsx','ms_company_model.pdf']\n",
    "#__attachment_files = ['RMSBQL.py']"
   ]
  },
  {
   "cell_type": "code",
   "execution_count": null,
   "metadata": {},
   "outputs": [],
   "source": [
    "req = note_pub.buildNoteUploadReq(\n",
    "    note_title=__note_title,\n",
    "    note_body=__note_body,\n",
    "    as_of_date=__as_of_date,\n",
    "    share_with=__share_with,\n",
    "    note_tags=__note_tags,\n",
    "    attachment_file_paths=__attachment_files\n",
    ")\n",
    "\n",
    "req"
   ]
  },
  {
   "cell_type": "code",
   "execution_count": null,
   "metadata": {},
   "outputs": [],
   "source": [
    "note_pub.publish_note(req)"
   ]
  },
  {
   "cell_type": "code",
   "execution_count": null,
   "metadata": {},
   "outputs": [],
   "source": []
  },
  {
   "cell_type": "code",
   "execution_count": null,
   "metadata": {},
   "outputs": [],
   "source": []
  },
  {
   "cell_type": "code",
   "execution_count": null,
   "metadata": {},
   "outputs": [],
   "source": []
  },
  {
   "cell_type": "code",
   "execution_count": null,
   "metadata": {},
   "outputs": [],
   "source": []
  }
 ],
 "metadata": {
  "kernelspec": {
   "display_name": "Python 3",
   "language": "python",
   "name": "python3"
  },
  "language_info": {
   "codemirror_mode": {
    "name": "ipython",
    "version": 3
   },
   "file_extension": ".py",
   "mimetype": "text/x-python",
   "name": "python",
   "nbconvert_exporter": "python",
   "pygments_lexer": "ipython3",
   "version": "3.8.2"
  }
 },
 "nbformat": 4,
 "nbformat_minor": 2
}
